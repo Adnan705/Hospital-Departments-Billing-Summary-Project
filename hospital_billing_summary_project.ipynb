{
 "cells": [
  {
   "cell_type": "code",
   "execution_count": 1,
   "id": "7d170ffe",
   "metadata": {},
   "outputs": [
    {
     "name": "stdout",
     "output_type": "stream",
     "text": [
      "CSV files created successfully.\n"
     ]
    }
   ],
   "source": [
    "import pandas as pd\n",
    "\n",
    "# Step 1: Create and Save Both CSV Files\n",
    "patient_data = {\n",
    "    'Patient_ID': ['P001', 'P002', 'P003', 'P004'],\n",
    "    'Name': ['Ali', 'Sara', 'Hamza', 'Ayesha'],\n",
    "    'Age': [45, 30, 50, 28],\n",
    "    'Department': ['Cardiology', 'Neurology', 'Orthopedics', 'Cardiology']\n",
    "}\n",
    "\n",
    "patient_df = pd.DataFrame(patient_data)\n",
    "patient_df.to_csv('patient_info.csv', index=False)\n",
    "\n",
    "billing_data = {\n",
    "    'Patient_ID': ['P001', 'P002', 'P003', 'P004'],\n",
    "    'Billing_Amount': [15000, 20000, 18000, 17000]\n",
    "}\n",
    "\n",
    "billing_df = pd.DataFrame(billing_data)\n",
    "billing_df.to_csv('billing_info.csv', index=False)\n",
    "print(\"CSV files created successfully.\")"
   ]
  },
  {
   "cell_type": "code",
   "execution_count": 4,
   "id": "881f051d",
   "metadata": {},
   "outputs": [],
   "source": [
    "# Step 2: Read Both CSV Files\n",
    "patient_df = pd.read_csv('patient_info.csv')\n",
    "billing_df = pd.read_csv('billing_info.csv')"
   ]
  },
  {
   "cell_type": "code",
   "execution_count": 5,
   "id": "54385c2b",
   "metadata": {},
   "outputs": [
    {
     "name": "stdout",
     "output_type": "stream",
     "text": [
      "Patient Info DataFrame:\n"
     ]
    },
    {
     "data": {
      "text/html": [
       "<div>\n",
       "<style scoped>\n",
       "    .dataframe tbody tr th:only-of-type {\n",
       "        vertical-align: middle;\n",
       "    }\n",
       "\n",
       "    .dataframe tbody tr th {\n",
       "        vertical-align: top;\n",
       "    }\n",
       "\n",
       "    .dataframe thead th {\n",
       "        text-align: right;\n",
       "    }\n",
       "</style>\n",
       "<table border=\"1\" class=\"dataframe\">\n",
       "  <thead>\n",
       "    <tr style=\"text-align: right;\">\n",
       "      <th></th>\n",
       "      <th>Patient_ID</th>\n",
       "      <th>Name</th>\n",
       "      <th>Age</th>\n",
       "      <th>Department</th>\n",
       "    </tr>\n",
       "  </thead>\n",
       "  <tbody>\n",
       "    <tr>\n",
       "      <th>0</th>\n",
       "      <td>P001</td>\n",
       "      <td>Ali</td>\n",
       "      <td>45</td>\n",
       "      <td>Cardiology</td>\n",
       "    </tr>\n",
       "    <tr>\n",
       "      <th>1</th>\n",
       "      <td>P002</td>\n",
       "      <td>Sara</td>\n",
       "      <td>30</td>\n",
       "      <td>Neurology</td>\n",
       "    </tr>\n",
       "    <tr>\n",
       "      <th>2</th>\n",
       "      <td>P003</td>\n",
       "      <td>Hamza</td>\n",
       "      <td>50</td>\n",
       "      <td>Orthopedics</td>\n",
       "    </tr>\n",
       "    <tr>\n",
       "      <th>3</th>\n",
       "      <td>P004</td>\n",
       "      <td>Ayesha</td>\n",
       "      <td>28</td>\n",
       "      <td>Cardiology</td>\n",
       "    </tr>\n",
       "  </tbody>\n",
       "</table>\n",
       "</div>"
      ],
      "text/plain": [
       "  Patient_ID    Name  Age   Department\n",
       "0       P001     Ali   45   Cardiology\n",
       "1       P002    Sara   30    Neurology\n",
       "2       P003   Hamza   50  Orthopedics\n",
       "3       P004  Ayesha   28   Cardiology"
      ]
     },
     "execution_count": 5,
     "metadata": {},
     "output_type": "execute_result"
    }
   ],
   "source": [
    "print(\"Patient Info DataFrame:\")\n",
    "patient_df"
   ]
  },
  {
   "cell_type": "code",
   "execution_count": 6,
   "id": "d2f260e7",
   "metadata": {},
   "outputs": [
    {
     "name": "stdout",
     "output_type": "stream",
     "text": [
      "Billing Info DataFrame:\n"
     ]
    },
    {
     "data": {
      "text/html": [
       "<div>\n",
       "<style scoped>\n",
       "    .dataframe tbody tr th:only-of-type {\n",
       "        vertical-align: middle;\n",
       "    }\n",
       "\n",
       "    .dataframe tbody tr th {\n",
       "        vertical-align: top;\n",
       "    }\n",
       "\n",
       "    .dataframe thead th {\n",
       "        text-align: right;\n",
       "    }\n",
       "</style>\n",
       "<table border=\"1\" class=\"dataframe\">\n",
       "  <thead>\n",
       "    <tr style=\"text-align: right;\">\n",
       "      <th></th>\n",
       "      <th>Patient_ID</th>\n",
       "      <th>Billing_Amount</th>\n",
       "    </tr>\n",
       "  </thead>\n",
       "  <tbody>\n",
       "    <tr>\n",
       "      <th>0</th>\n",
       "      <td>P001</td>\n",
       "      <td>15000</td>\n",
       "    </tr>\n",
       "    <tr>\n",
       "      <th>1</th>\n",
       "      <td>P002</td>\n",
       "      <td>20000</td>\n",
       "    </tr>\n",
       "    <tr>\n",
       "      <th>2</th>\n",
       "      <td>P003</td>\n",
       "      <td>18000</td>\n",
       "    </tr>\n",
       "    <tr>\n",
       "      <th>3</th>\n",
       "      <td>P004</td>\n",
       "      <td>17000</td>\n",
       "    </tr>\n",
       "  </tbody>\n",
       "</table>\n",
       "</div>"
      ],
      "text/plain": [
       "  Patient_ID  Billing_Amount\n",
       "0       P001           15000\n",
       "1       P002           20000\n",
       "2       P003           18000\n",
       "3       P004           17000"
      ]
     },
     "execution_count": 6,
     "metadata": {},
     "output_type": "execute_result"
    }
   ],
   "source": [
    "print(\"Billing Info DataFrame:\")\n",
    "billing_df"
   ]
  },
  {
   "cell_type": "code",
   "execution_count": 7,
   "id": "84da43d0",
   "metadata": {},
   "outputs": [
    {
     "name": "stdout",
     "output_type": "stream",
     "text": [
      "Merged DataFrame:\n"
     ]
    },
    {
     "data": {
      "text/html": [
       "<div>\n",
       "<style scoped>\n",
       "    .dataframe tbody tr th:only-of-type {\n",
       "        vertical-align: middle;\n",
       "    }\n",
       "\n",
       "    .dataframe tbody tr th {\n",
       "        vertical-align: top;\n",
       "    }\n",
       "\n",
       "    .dataframe thead th {\n",
       "        text-align: right;\n",
       "    }\n",
       "</style>\n",
       "<table border=\"1\" class=\"dataframe\">\n",
       "  <thead>\n",
       "    <tr style=\"text-align: right;\">\n",
       "      <th></th>\n",
       "      <th>Patient_ID</th>\n",
       "      <th>Name</th>\n",
       "      <th>Age</th>\n",
       "      <th>Department</th>\n",
       "      <th>Billing_Amount</th>\n",
       "    </tr>\n",
       "  </thead>\n",
       "  <tbody>\n",
       "    <tr>\n",
       "      <th>0</th>\n",
       "      <td>P001</td>\n",
       "      <td>Ali</td>\n",
       "      <td>45</td>\n",
       "      <td>Cardiology</td>\n",
       "      <td>15000</td>\n",
       "    </tr>\n",
       "    <tr>\n",
       "      <th>1</th>\n",
       "      <td>P002</td>\n",
       "      <td>Sara</td>\n",
       "      <td>30</td>\n",
       "      <td>Neurology</td>\n",
       "      <td>20000</td>\n",
       "    </tr>\n",
       "    <tr>\n",
       "      <th>2</th>\n",
       "      <td>P003</td>\n",
       "      <td>Hamza</td>\n",
       "      <td>50</td>\n",
       "      <td>Orthopedics</td>\n",
       "      <td>18000</td>\n",
       "    </tr>\n",
       "    <tr>\n",
       "      <th>3</th>\n",
       "      <td>P004</td>\n",
       "      <td>Ayesha</td>\n",
       "      <td>28</td>\n",
       "      <td>Cardiology</td>\n",
       "      <td>17000</td>\n",
       "    </tr>\n",
       "  </tbody>\n",
       "</table>\n",
       "</div>"
      ],
      "text/plain": [
       "  Patient_ID    Name  Age   Department  Billing_Amount\n",
       "0       P001     Ali   45   Cardiology           15000\n",
       "1       P002    Sara   30    Neurology           20000\n",
       "2       P003   Hamza   50  Orthopedics           18000\n",
       "3       P004  Ayesha   28   Cardiology           17000"
      ]
     },
     "execution_count": 7,
     "metadata": {},
     "output_type": "execute_result"
    }
   ],
   "source": [
    "# Step 3: Merge Both DataFrames\n",
    "merged_df = pd.merge(patient_df, billing_df, on='Patient_ID', how='inner')\n",
    "print(\"Merged DataFrame:\")\n",
    "merged_df"
   ]
  },
  {
   "cell_type": "code",
   "execution_count": 8,
   "id": "165fec80",
   "metadata": {},
   "outputs": [
    {
     "name": "stdout",
     "output_type": "stream",
     "text": [
      "Total Billing by Department:\n",
      "Department\n",
      "Cardiology     32000\n",
      "Neurology      20000\n",
      "Orthopedics    18000\n",
      "Name: Billing_Amount, dtype: int64\n"
     ]
    }
   ],
   "source": [
    "# Step 4: GroupBy - Total Billing by Department\n",
    "billing_by_department = merged_df.groupby('Department')['Billing_Amount'].sum()\n",
    "print(\"Total Billing by Department:\")\n",
    "print(billing_by_department)"
   ]
  },
  {
   "cell_type": "code",
   "execution_count": 9,
   "id": "eb9e5588",
   "metadata": {},
   "outputs": [
    {
     "name": "stdout",
     "output_type": "stream",
     "text": [
      "Average Billing by Department:\n",
      "Department\n",
      "Cardiology     16000.0\n",
      "Neurology      20000.0\n",
      "Orthopedics    18000.0\n",
      "Name: Billing_Amount, dtype: float64\n"
     ]
    }
   ],
   "source": [
    "# Step 5: GroupBy - Average Billing by Department\n",
    "avg_billing_by_department = merged_df.groupby('Department')['Billing_Amount'].mean()\n",
    "print(\"Average Billing by Department:\")\n",
    "print(avg_billing_by_department)"
   ]
  },
  {
   "cell_type": "code",
   "execution_count": 11,
   "id": "1769d6ed",
   "metadata": {},
   "outputs": [
    {
     "name": "stdout",
     "output_type": "stream",
     "text": [
      "hospital_billing_summary.csv file created successfully!\n"
     ]
    }
   ],
   "source": [
    "# Step 6: Final Cleaned Data Export\n",
    "merged_df.to_csv('hospital_billing_summary.csv', index=False)\n",
    "print(\"hospital_billing_summary.csv file created successfully!\")"
   ]
  }
 ],
 "metadata": {
  "kernelspec": {
   "display_name": "Python 3",
   "language": "python",
   "name": "python3"
  },
  "language_info": {
   "codemirror_mode": {
    "name": "ipython",
    "version": 3
   },
   "file_extension": ".py",
   "mimetype": "text/x-python",
   "name": "python",
   "nbconvert_exporter": "python",
   "pygments_lexer": "ipython3",
   "version": "3.13.3"
  }
 },
 "nbformat": 4,
 "nbformat_minor": 5
}
